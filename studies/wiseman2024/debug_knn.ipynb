{
 "cells": [
  {
   "cell_type": "code",
   "execution_count": 2,
   "metadata": {},
   "outputs": [],
   "source": [
    "# import required packages\n",
    "import pandas as pd\n",
    "import os\n",
    "from yaml import load\n",
    "from yaml import CLoader as Loader\n",
    "from abil.tune import tune"
   ]
  },
  {
   "cell_type": "code",
   "execution_count": 3,
   "metadata": {},
   "outputs": [],
   "source": [
    "#define directories\n",
    "dirpath = os.path.dirname(os.path.abspath(\"__file__\"))\n",
    "conffile = os.path.abspath(os.path.join(dirpath,'ensemble_regressor_knn.yml'))\n",
    "\n",
    "#load model arguments\n",
    "with open(conffile, 'r') as f:\n",
    "    model_config = load(f, Loader=Loader)\n",
    "\n",
    "#define model config:\n",
    "model_config['root'] = os.path.abspath(os.path.join(dirpath,'..','..'))\n",
    "model_config['hpc'] = False\n",
    "n_jobs = 1\n",
    "n_spp = 0\n",
    "model = \"knn\"\n",
    "model_config['n_threads'] = n_jobs\n",
    "model_config['cv'] = 10    "
   ]
  },
  {
   "cell_type": "code",
   "execution_count": 4,
   "metadata": {},
   "outputs": [],
   "source": [
    "#load data\n",
    "target =  'Calcification'\n",
    "y = pd.read_csv(os.path.join(model_config['root'],'studies','wiseman2024','y.csv'))\n",
    "y.name = target\n",
    "X_train = pd.read_csv(os.path.join(model_config['root'],'studies','wiseman2024','X_train.csv'))"
   ]
  },
  {
   "cell_type": "code",
   "execution_count": 5,
   "metadata": {},
   "outputs": [
    {
     "name": "stdout",
     "output_type": "stream",
     "text": [
      "length of y:\n",
      "81\n",
      "training regressor\n",
      "{'regressor__estimator__max_samples': [0.9], 'regressor__estimator__max_features': [1, 2, 3, 4, 5], 'regressor__estimator__estimator__n_neighbors': [5, 10, 15], 'regressor__estimator__estimator__p': [1], 'regressor__estimator__estimator__weights': ['distance']}\n",
      "Fitting 10 folds for each of 15 candidates, totalling 150 fits\n",
      "exported model to: /home/mv23682/Documents/Abil/studies/wiseman2024/ModelOutput/test_knn/model/knn/Calcification_reg.sav\n",
      "exported scoring to: /home/mv23682/Documents/Abil/studies/wiseman2024/ModelOutput/test_knn/scoring/knn/Calcification_reg.sav\n",
      "reg rRMSE: 164%\n",
      "reg rMAE: 93%\n",
      "reg R2: -0.43\n",
      "execution time: 7.152557373046875e-07 seconds\n"
     ]
    }
   ],
   "source": [
    "#setup model:\n",
    "model_config[\"param_grid\"][\"knn_param_grid\"][\"reg_param_grid\"][\"max_samples\"] = [0.9]\n",
    "m = tune(X_train, y, model_config)\n",
    "m.train(model, regressor=True)"
   ]
  },
  {
   "cell_type": "code",
   "execution_count": 6,
   "metadata": {},
   "outputs": [
    {
     "name": "stdout",
     "output_type": "stream",
     "text": [
      "length of y:\n",
      "81\n",
      "training regressor\n",
      "{'regressor__estimator__max_samples': [1.0], 'regressor__estimator__max_features': [1, 2, 3, 4, 5], 'regressor__estimator__estimator__n_neighbors': [5, 10, 15], 'regressor__estimator__estimator__p': [1], 'regressor__estimator__estimator__weights': ['distance']}\n",
      "Fitting 10 folds for each of 15 candidates, totalling 150 fits\n",
      "exported model to: /home/mv23682/Documents/Abil/studies/wiseman2024/ModelOutput/test_knn/model/knn/Calcification_reg.sav\n",
      "exported scoring to: /home/mv23682/Documents/Abil/studies/wiseman2024/ModelOutput/test_knn/scoring/knn/Calcification_reg.sav\n",
      "reg rRMSE: 165%\n",
      "reg rMAE: 93%\n",
      "reg R2: -0.45\n",
      "execution time: 4.76837158203125e-07 seconds\n"
     ]
    }
   ],
   "source": [
    "#setup model:\n",
    "model_config[\"param_grid\"][\"knn_param_grid\"][\"reg_param_grid\"][\"max_samples\"] = [1.0]\n",
    "m = tune(X_train, y, model_config)\n",
    "m.train(model, regressor=True)"
   ]
  },
  {
   "cell_type": "code",
   "execution_count": null,
   "metadata": {},
   "outputs": [],
   "source": []
  }
 ],
 "metadata": {
  "kernelspec": {
   "display_name": "abil-env",
   "language": "python",
   "name": "python3"
  },
  "language_info": {
   "codemirror_mode": {
    "name": "ipython",
    "version": 3
   },
   "file_extension": ".py",
   "mimetype": "text/x-python",
   "name": "python",
   "nbconvert_exporter": "python",
   "pygments_lexer": "ipython3",
   "version": "3.12.2"
  }
 },
 "nbformat": 4,
 "nbformat_minor": 2
}
